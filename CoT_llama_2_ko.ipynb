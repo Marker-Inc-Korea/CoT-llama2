{
  "cells": [
    {
      "cell_type": "markdown",
      "metadata": {
        "id": "2o5_-5jfVURK"
      },
      "source": [
        "## Setting"
      ]
    },
    {
      "cell_type": "code",
      "execution_count": null,
      "metadata": {
        "id": "2cLLuMFEmA08"
      },
      "outputs": [],
      "source": [
        "# https://github.com/arielnlee/Platypus\n",
        "# https://huggingface.co/garage-bAInd/Platypus2-13B\n",
        "\n",
        "# Must A100 GPU in colab"
      ]
    },
    {
      "cell_type": "code",
      "execution_count": null,
      "metadata": {
        "id": "VRbojokB5G-5"
      },
      "outputs": [],
      "source": [
        "from google.colab import drive\n",
        "drive.mount('/content/drive')"
      ]
    },
    {
      "cell_type": "code",
      "execution_count": null,
      "metadata": {
        "id": "ypQAOBi25v-Z"
      },
      "outputs": [],
      "source": [
        "# # https://github.com/arielnlee/Platypus download and unzip your driver\n",
        "# You also use 'git' command\n",
        "%cd /content/drive/MyDrive/CoT-llama-main"
      ]
    },
    {
      "cell_type": "code",
      "execution_count": null,
      "metadata": {
        "id": "Q9kUXAFl5HEo"
      },
      "outputs": [],
      "source": [
        "!pip install -r requirements.txt"
      ]
    },
    {
      "cell_type": "code",
      "execution_count": null,
      "metadata": {
        "id": "d_gRCFBgyLOP"
      },
      "outputs": [],
      "source": [
        "!pip list"
      ]
    },
    {
      "cell_type": "code",
      "execution_count": null,
      "metadata": {
        "colab": {
          "base_uri": "https://localhost:8080/"
        },
        "id": "F5q0E4EV_gnp",
        "outputId": "863967f5-7c4e-47ad-82b7-c8e8bbe548e2"
      },
      "outputs": [],
      "source": [
        "# checking running -> A100 GPU\n",
        "# peft >= 0.3.0\n",
        "\n",
        "# Modify -> CoT version\n",
        "\n",
        "# LIMA\n",
        "# 15 epochs (o)\n",
        "# AdamW beta1 = 0.9, beta2 = 0.95 (o)\n",
        "# weight decay = 0.1 (o)\n",
        "# Batchsize 32 ~ 64(smaller models) (o)\n",
        "# initial learning ratio 1e-5 -> linearly decaying (o) to 1e-6 (O)\n",
        "# 2048 tokens (o)\n",
        "# Use eos_token (False->True)\n",
        "\n",
        "## Firstly,\n",
        "# warmup_steps -> 0\n",
        "# kyujinpy/KoCoT_2000 -> DeepL로만 번역함.\n",
        "\n",
        "!torchrun finetune.py \\\n",
        "    --base_model beomi/llama-2-ko-7b \\\n",
        "    --data-path kyujinpy/KoCoT_2000 \\\n",
        "    --output_dir ./CoT-llama-2-ko-7b \\\n",
        "    --batch_size 64 \\\n",
        "    --micro_batch_size 1 \\\n",
        "    --num_epochs 15 \\\n",
        "    --learning_rate 1e-5 \\\n",
        "    --cutoff_len 2048 \\\n",
        "    --val_set_size 0 \\\n",
        "    --lora_r 16 \\\n",
        "    --lora_alpha 16 \\\n",
        "    --lora_dropout 0.05 \\\n",
        "    --lora_target_modules '[gate_proj, down_proj, up_proj]' \\\n",
        "    --train_on_inputs False \\\n",
        "    --add_eos_token True \\\n",
        "    --group_by_length False \\\n",
        "    --prompt_template_name alpaca \\\n",
        "    --lr_scheduler 'linear' \\\n",
        "    --warmup_steps 0\n",
        "#--resume_from_checkpoint 'CoT-llama-2-ko-7b/checkpoint-400'"
      ]
    },
    {
      "cell_type": "code",
      "execution_count": null,
      "metadata": {
        "id": "mXA9dWNVLx3P"
      },
      "outputs": [],
      "source": []
    },
    {
      "cell_type": "code",
      "execution_count": null,
      "metadata": {
        "id": "MfZ1yW8lLx5n"
      },
      "outputs": [],
      "source": []
    },
    {
      "cell_type": "code",
      "execution_count": null,
      "metadata": {
        "id": "GKu8TPVNLx7r"
      },
      "outputs": [],
      "source": []
    },
    {
      "cell_type": "code",
      "execution_count": null,
      "metadata": {
        "colab": {
          "base_uri": "https://localhost:8080/"
        },
        "id": "g9KnZ3Y93MnP",
        "outputId": "59a05cdc-4823-4b10-f22d-672fb2efc271"
      },
      "outputs": [],
      "source": [
        "!python merge.py \\\n",
        "    --base_model_name_or_path beomi/llama-2-ko-7b \\\n",
        "    --peft_model_path ./CoT-llama-2-ko-7b \\\n",
        "    --output_dir ./CoT-llama-2-ko-7b/final"
      ]
    },
    {
      "cell_type": "code",
      "execution_count": null,
      "metadata": {
        "id": "pl0LIORZoRsj"
      },
      "outputs": [],
      "source": [
        "from datasets import load_dataset\n",
        "\n",
        "# dataset testing\n",
        "dataset = load_dataset(\"kyujinpy/KOpen-platypus\", token=True)"
      ]
    },
    {
      "cell_type": "code",
      "execution_count": null,
      "metadata": {
        "id": "CZZExGJzYyEA"
      },
      "outputs": [],
      "source": [
        "dataset"
      ]
    },
    {
      "cell_type": "code",
      "execution_count": null,
      "metadata": {
        "id": "g6tgnOuXx1TG"
      },
      "outputs": [],
      "source": []
    }
  ],
  "metadata": {
    "accelerator": "GPU",
    "colab": {
      "gpuType": "A100",
      "machine_shape": "hm",
      "provenance": []
    },
    "kernelspec": {
      "display_name": "Python 3",
      "name": "python3"
    },
    "language_info": {
      "name": "python"
    },
    "varInspector": {
      "cols": {
        "lenName": 16,
        "lenType": 16,
        "lenVar": 40
      },
      "kernels_config": {
        "python": {
          "delete_cmd_postfix": "",
          "delete_cmd_prefix": "del ",
          "library": "var_list.py",
          "varRefreshCmd": "print(var_dic_list())"
        },
        "r": {
          "delete_cmd_postfix": ") ",
          "delete_cmd_prefix": "rm(",
          "library": "var_list.r",
          "varRefreshCmd": "cat(var_dic_list()) "
        }
      },
      "types_to_exclude": [
        "module",
        "function",
        "builtin_function_or_method",
        "instance",
        "_Feature"
      ],
      "window_display": false
    }
  },
  "nbformat": 4,
  "nbformat_minor": 0
}
